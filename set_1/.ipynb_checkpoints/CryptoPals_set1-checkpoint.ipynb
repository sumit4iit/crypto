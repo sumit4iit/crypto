{
 "metadata": {
  "name": "",
  "signature": "sha256:396c8617adb8d3c4d27dbed5196635bf977e02253a27c54cf469b5435b9b01d0"
 },
 "nbformat": 3,
 "nbformat_minor": 0,
 "worksheets": [
  {
   "cells": [
    {
     "cell_type": "code",
     "collapsed": false,
     "input": [
      "import sys\n",
      "\n",
      "hx = '49276d206b696c6c696e6720796f757220627261696e206c696b65206120706f69736f6e6f7573206d757368726f6f6d'\n",
      "# print hx.decode('hex').encode('base64')"
     ],
     "language": "python",
     "metadata": {
      "slideshow": {
       "slide_type": "notes"
      }
     },
     "outputs": [],
     "prompt_number": 73
    },
    {
     "cell_type": "code",
     "collapsed": false,
     "input": [
      "b1 = '1c0111001f010100061a024b53535009181c'\n",
      "b2 = '686974207468652062756c6c277320657965'\n",
      "\n",
      "s = ''.join(hex(int(x, 16)^int(y, 16))[2:] for x,y in zip(b1, b2))\n",
      "# print s\n"
     ],
     "language": "python",
     "metadata": {},
     "outputs": [],
     "prompt_number": 72
    },
    {
     "cell_type": "code",
     "collapsed": false,
     "input": [
      "#Single byte XOR\n",
      "import operator\n",
      "\n",
      "def bruteKeys(data):\n",
      "    \"\"\"\n",
      "    Brute force all single byte keys on the data and return a list of deciphered strings\n",
      "    \"\"\"\n",
      "    decStrs = []\n",
      "    for key in range(0xff):\n",
      "        dec = ''\n",
      "        for x in range(2, len(data), 2):\n",
      "            token = int(data[x-2:x], 16)\n",
      "            #We need to map 0xa to 0x0a for this logic to work\n",
      "            dec += hex(token^key)[2:].zfill(2)\n",
      "        decStrs.append(dec.decode('hex'))\n",
      "    return decStrs\n",
      "\n",
      "\n",
      "def bestGuess(strings):\n",
      "    \"\"\"\n",
      "    rank strings according to similarity to english language\n",
      "    \"\"\"\n",
      "    lst = {}\n",
      "    keywords=['the', 'be', 'to', 'a', 'of', 'and', 'in', 'that', 'have', 'I', 'it', 'for', 'not', 'on', 'with', 'he', 'as', 'you', 'do', 'at', 'this', 'but', 'his', 'by', 'from', 'they', 'we', 'say', 'her', 'she', 'or', 'an', 'will', 'my', 'one', 'all', 'would', 'there', 'their', 'what', 'so', 'up', 'out', 'if', 'about', 'who', 'get', 'which', 'go', 'me', 'when', 'make', 'can', 'like', 'time', 'no', 'just', 'him', 'know', 'take', 'people', 'into', 'year', 'your', 'good', 'some', 'could', 'them', 'see', 'other', 'than', 'then', 'now', 'look', 'only', 'come', 'its', 'over', 'think', 'also', 'back', 'after', 'use', 'two', 'how', 'our', 'work', 'first', 'well', 'way', 'even', 'new', 'want', 'because', 'any', 'these', 'give', 'day', 'most', 'us']\n",
      "    for string in strings:\n",
      "        count = 0\n",
      "        for k in keywords:\n",
      "            if k in string:\n",
      "                count+=1\n",
      "        \n",
      "        if count > 0:\n",
      "            lst[string] = count\n",
      "    lst = sorted(lst.items(), key=operator.itemgetter(1), reverse = True)\n",
      "    return lst\n",
      "\n",
      "\n",
      "\n",
      "# data = '1b37373331363f78151b7f2b783431333d78397828372d363c78373e783a393b3736'\n",
      "# bestGuess(bruteKeys(data))\n"
     ],
     "language": "python",
     "metadata": {},
     "outputs": [],
     "prompt_number": 71
    },
    {
     "cell_type": "code",
     "collapsed": false,
     "input": [
      "string = \"\"\"Burning 'em, if you ain't quick and nimble\n",
      "I go crazy when I hear a cymbal\"\"\"\n",
      "\n",
      "key = \"ICE\"\n",
      "\n",
      "enc = ''\n",
      "for i in range(len(string)):\n",
      "    enc += hex(ord(key[i%len(key)])^ord(string[i]))[2:].zfill(2)\n",
      "print enc == \"\"\"0b3637272a2b2e63622c2e69692a23693a2a3c6324202d623d63343c2a26226324272765272a282b2f20430a652e2c652a3124333a653e2b2027630c692b20283165286326302e27282f\"\"\""
     ],
     "language": "python",
     "metadata": {},
     "outputs": [
      {
       "output_type": "stream",
       "stream": "stdout",
       "text": [
        "True\n"
       ]
      }
     ],
     "prompt_number": 82
    },
    {
     "cell_type": "code",
     "collapsed": false,
     "input": [
      "import operator\n",
      "import pprint\n",
      "# Break repeated key XOR cipher\n",
      "\n",
      "def hammingDistance(str1, str2):\n",
      "    \"\"\"\n",
      "    Calculate Hammind Distance between the two strings.\n",
      "    Assumption is that both the string have the same length.\n",
      "    \"\"\"\n",
      "    dist = 0\n",
      "    for entry in [bin(ord(c1) ^ ord(c2))[2:] for c1,c2 in zip(str1, str2)]:\n",
      "        dist += entry.count('1')\n",
      "    return dist\n",
      "\n",
      "def get_chunks(raw, size):\n",
      "    chunks = []\n",
      "    i = 1\n",
      "    while size*i < len(raw):\n",
      "        chunks.append(raw[size*(i-1):size*i])\n",
      "        i+=1\n",
      "    return chunks\n",
      "\n",
      "def guessKeySize(rng, text, depth):\n",
      "    keySizeProb = {}\n",
      "    for keySize in range(1,rng):\n",
      "        dist = 0.\n",
      "        for i in range(depth):\n",
      "            dist += hammingDistance(text[i*keySize:(i+1)*keySize], text[(i+1)*keySize:(i+2)*keySize])\n",
      "        dist = dist/depth\n",
      "        dist = dist/keySize\n",
      "        keySizeProb[keySize] = dist\n",
      "    lst = sorted(keySizeProb.items(), key=operator.itemgetter(1), reverse = False)\n",
      "    return lst\n",
      "\n",
      "if __name__ == '__main__':\n",
      "    file = '6.txt'\n",
      "    f = open(file,'r')\n",
      "    txt = ''\n",
      "    for line in f:\n",
      "        txt += line.decode('base64')\n",
      "    print get_chunks(txt, 10)\n",
      "#     lst = guessKeySize(40, txt, 40)\n",
      "#     for entry in lst:\n",
      "#         print entry\n",
      "\n",
      "## Tests\n",
      "assert hammingDistance(\"this is a test\", \"wokka wokka!!!\") == 37\n"
     ],
     "language": "python",
     "metadata": {},
     "outputs": [
      {
       "output_type": "stream",
       "stream": "stdout",
       "text": [
        "['\\x1dB\\x1fM\\x0b\\x0f\\x02\\x1fO\\x13', 'N<\\x1aie\\x1fI\\x1c\\x0eN', '\\x13\\x01\\x0b\\x07N\\x1b\\x01\\x16E6', '\\x00\\x1e\\x01Id T\\x1d\\x1dC', '3SNeR\\x06\\x00GT\\x1c', '\\rEM\\x07\\x04\\x0cS\\x12<\\x0c', '\\x1e\\x08I\\x1a\\t\\x11O\\x14L!', '\\x1aG+\\x00\\x05\\x1dGY\\x11\\x04', '\\t\\x00d&\\x07S\\x007\\x16\\x06', '\\x0c\\x1a\\x17A\\x1d\\x01RT0_', '\\x00 \\x13\\n\\x05GO\\x12H\\x08', 'ENe>\\x16\\t8E\\x06\\x05', '\\x08\\x1aF\\x07O\\x1fYx~j', 'b6\\x0c\\x1d\\x0fA\\rH\\x06U', '\\x1a\\x1b\\x00\\x1dBt\\x04\\x1e\\x01I', '\\x1a\\t\\x11\\x02Rz\\x7fI\\x00H', ':\\x00\\x1a\\x13I\\x1aOEH\\x0f', '\\x1d\\rS\\x04:\\x01R\\x19\\x01\\x0b', 'A\\x13\\x06\\x00L1_Sb\\x15', '\\x06\\x07\\t\\x07T\\x0b\\x17A\\x14\\x16', 'Iy35\\x0b\\x1b\\x01\\x05\\x0fF', \"\\x07O\\x1dNxNH'R\\x04\", '\\x07\\x0cEXH\\x08A\\x00O ', 'T\\x08t\\x0b\\x1d\\x19I\\x02\\x00\\x0e', '\\x16\\\\\\x00R0ie\\x1fI\\x02', '\\x02T\\x00\\x01\\x0b\\x07N\\x02\\x10S', '\\x01&\\x10\\x15M\\x02\\x07\\x02\\x1fO', '\\x1bNx0i6R\\n\\x01\\t', 'T\\x06\\x07\\tSN\\x02\\x10S\\x08', ';\\x10\\x06\\x05I\\x0f\\x0f\\x10O;', '\\x00:_G+\\x1cId3O', 'T\\x02\\x10S\\x1aO\\x05\\x16\\x11t', '\\x0c\\x06M\\x0f\\x02\\x0e\\x03CRL', '=N\\x00/\\x0bI\\r\\x08N\\x17', '\\r\\x15T\\x1dO\\x0e\\x1cE^(', '\\x0bM\\x19\\x01\\x12\\x07\\nUSx', 'NOb\\x06\\x01\\x0bGS\\x1d\\x0c', '\\x00\\x00\\x17\\n\\x05\\x1f\\x0c:B^', 'M.\\x01A\"\\x0e\\x1cI4V', 'Ab5\\x06OG*~;\\x08', 'O\\x01\\x1b\\x01SB7\\x04\\x07\\x1e', '\\x0cN\\x15\\x1c\\x0e\\x06\\x07+\\x1aT', '*\\x17I\\x19\\x06YT!EW', '\\x07\\x03\\x05S\\x071Ex,\\x07', '\\nA\\x1d\\tRY7O\\x00&', '\\x1d\\x07I\\x13\\x00\\x13\\x01\\x13EN', '\\x0eI\\x17\\x049\\x0b^M\\x1d\\x06', '\\x04\\x1aOxw0C\\x00;\\x1d', '\\x1cN\\x14T\\x15\\x1a\\x0cNIO', '\\x08\\x07E9\\x00Rg:\\x01A', '\\x13\\n\\x06\\x007\\\\FbU\\n', '\\x0f\\x12S\\x11H,\\x00\\r\\x00\\x07', '\\x07\\x17;\\tR\\x19\\x01\\x0bA\\x07', '\\x1b\\x13G=\\x1a*\\x16\\x1a\\x0c\\x1c', '\\x02\\x07\\x07H\\x0bON\\x0b\\x00\\x00', '\\x16=\\x0bUM\\x08\\x02\\r\\x1b\\x18', '\\x17Dx0ie\\x1fI\\x07\\t', '\\x00\\x19\\x11EO\\x19\\x01I\\x03\\r', '5\\x16\\x17Mc:\\t\\x11O\\x15', \"I*VI'\\x01I\\x1d\\x06\\x00\", '\\rH\\x11H\\x0b\\x16I\\x1f\\n\"', '\\x00R\\x00\\x0cN\\x00\\x1a\\x0bRT', '0[Tb\\x1b\\x1aN\\x08KT', 'b$N\\nO S\\x065\\x0b', 'R\\t\\x08\\x00\\x02\\x11O\\x10E,', 'NE0R\\x1d\\x06\\x06NT\\t', '\\x0bYN\\x04\\x00\\x17E:BR', '\\x1d\\x05\\x0f\\x18Texs,[', \"G'R[NJ\\rT1\\x00\", 'AN\\x1b\\x01\\x16E;\\x0b\\x17M', '\\x10\\x0fFT\\x18\\x13N6[\\x00', '.\\x1b\\x1a\\x1a\\x02NT\\x1c\\n\\x00', 'd&\\x1dT\\x16t\\n\\x14\\x0bI', '\\x03\\x18T\\x07\\x17A<\\x1aS-', 'R\\x05\\x0b\\x13\\x00\\x00\\x00\\x00\\x00\\x0c', '\\n\\x08\\x07E$\\t\\x13\\x14I\\x1a', '\\t\\x06\\x00\\x07G0\\x1a*\\x11\\x1d', \"I'GC\\x15\\x06EF\\x1b\\x01\", '\\x02S\\x0c E\\x07\\x1dI\\x0f\\x0f', '\\x10O\\x1fA3_\\x00+\\x06I', '\\x1d\\x08U\\x1a\\x0cEG\\x01\\x00\\r', 'SoeH@@ZN8\\x1b', 'O_\\rxqN-\\x11\\x02N', '\\x08NT\\x1b\\nM\\x0bO\\x1e\\x1c', '\\n0Ex+\\x06\\x1cA\\x13\\x00', '\\x1dDxVU!\\x19EN.', '\\x00\\x18\\x01\\x0eEN\\x02\\x10S\\x17', '<\\x1c\\x1f\\x08\\x1aN\\x00\\x00\\x1d\\x1d', 'C1UU1Rc=\\x12P', '\\x11\\x1a\\x06A\\x02\\x0e\\x0f\\x01\\x043', '\\x0c\\x1e\\x04\\x1a\\x1a\\x08\\x17\\n\\nP', '1[L+\\x16\\x06\\r\\x0eO\\x01', \"\\x1bE*'H\\x04S\\x04:E\", '\\x17\\x0b\\x0f\\x0b\\x02\\x00O\\x13N<', '\\x1aT*\\x13\\x1dN\\x1eO\\x01H', '\\x06A\\x00O\\x0b\\x16\\x11to;', 'M\\n\\x0f\\x0fT\\x1b\\x13K=\\x1a', 'Ab\\x14\\x05\\x17GG\\x1d\\x1a\\t', '\\x00\\x0f\\x01\\rS\\x085\\x0e\\x17M', '\\x01\\x0b\\x13T\\x18\\x17Tv\\x1a*', 'H;N\\x03GL\\x1d\\x03\\x00\\x00', '=\\x0e\\x04\\x00\\n:E_@I', '=\\x00\\x19\\x1c\\x1dNxNOb', '6\\x0c\\x02\\x0eL\\x15\\x00E*:', '\\x07\\x0c\\x01\\x00s\\x16R\\x03\\x06N', '\\x05\\x11\\x01\\x0bI6\\x1d\\x0cb+', '\\x06\\x1bGC\\x15\\x06ET\\x1c\\x16', 'I\\x07\\nt\\r\\x13\\x03\\x0eNk', '6\\x1a\\x06\\x00!UUe\\x1e\\x05', 'N\\x0cE\\x11\\x18ET\\x1c\\x16\\x00', '\\x1dBt\\x11\\x1dM\\x0e\\x0b\\x15T', '\\x02\\x0b\\x00+NY.\\x17Id', '(V\\x11\\x1aEA\\x00\\x0bI\\x1c', '\\x131\\x17^M\\x19\\x1c\\x00\\x17\\x1b', '\\x1bC=\\x1aM#\\x19\\x0c\\x1dG', \"P\\x11\\x1a\\x03E\\r\\x1bIy'\", '!\\x11R\\x03\\x06\\x1aA\\x1d\\tR', 'Y7O\\x070\\x17I\\x0fGL', '\\x1b\\t\\x03E\\x1cAIyo\\r', '\\n\\x07J\\x05\\x02A\\x13\\n\\x06\\x00', '6UW*\\x17\\x1b\\x0bK\\x00\\x1a', '\\x07EP\\x02\\x0e\\n\\x16It\\x0b', '\\x1dM\\x1d\\x07\\x0c\\x11CRN7', \"\\x1aG+\\x00\\x05\\x1dG*'\\x07\", '\\nNNBDS*<E\\x1f', '\\x14I)\\x0e\\x10CRH7W', 'E \\x1d\\r\\x17K\\x00\\r\\x07\\x10', '\\x00\\x1e\\x1d\\x06\\x11\\x046\\t\\x0bM', '\\x0c\\x0f\\x15Te!P9]H', \"'\\x06\\x1d\\x07GW\\x1d\\x1c\\r\\x00\", '\\x0fO\\x1a\\x03\\n;\\x0bSM*', '\\x01\\x0c\\x11O\\x1dNx[N&', 'R\\x1a\\x0f\\x1e\\x00\\x1d\\x1cD\\x00d', 'e?:5zE$\\x0c\\x07\\x07', '\\r\\x18\\x0eRi;_\\x00;\\x17', \"\\x19BGY\\x11\\x18I\\x00'H\", '\\x04S\\x06;\\x08\\x1b\\x03NN\\t', \"\\x15\\x1d\\x16\\x004SK'R\\x08\", 'N\\x15H\\x1d\\x06\\n\\x00d&\\x07', '\\x07\\n,\\x0c\\x11\\x0c\\x1d\\x07\\x0f\\x13', 'O\\x01OxCO7R\\x1a\\x1a', '\\x06G\\x13\\r\\x17\\x00\\x02\\x06\\x02\\x16', 'E5E\\x05\\x04\\x07\\x01A~<', '\\x1d\\x00(ON)\\x01I\\x1d\\x13', 'O\\x04H\\x11R\\x17\\x06\\x07\\x14E', '5\\x0b\\x16M\\x0e\\x07\\x13\\x18O\\x01', 'T7J\\x00!\\x00\\x10\\x07\\t\\x07', 'Tb3A\\x00\\x06\\x05\\x1f\\x04t', ',\\x11\\x08I\\x07\\x12T\\x1c\\x17L', '4SNeR\\x08\\x00\\x03\\x00\\r', '\\x07\\x10\\x00\\x1e\\n\\x06\\x03\\t1E', '\\x13\\x1f\\x0cN\\x03\\x01\\x16\\x1bN\\x7f', '\\x1a*e1\\x08\\x1b\\x14ET\\x1f', '\\rYN\\x1b\\x01\\x16E2\\x17\\x17', '\\x0c\\x02\\x1dA\\x15\\x1d\\x17\\x002U', 'C)\\x1b\\x07IGL\\x1d\\x03\\x00', '\\x00-\\x1d\\x08\\t\\x1ct\"\\x1e\\x18', '\\x0cNk9\\x00\\x04I6\\x1d\\x00', '#\\x1c\\rN\\x00R\\x1b\\x07\\x13I', '\\x00HI\\x07\\x17-\\x0c\\x1c\\nI', '\\x1a\\x0eT\\x1c\\x1bN?\\x1aA.', '\\x1d\\x07\\tG*5\\x04\\t\\x00\\x1a', '\\x07\\x1b\\x1c\\x103\\rR\\x19\\x01\\x0b', 'A\\x13\\x07\\x17T,U\\x00%\\x00', '\\x06\\x01\\x11I\\x1aOET\\x06\\x06', '\\x1aS\\r1\\x17\\x17M\\x1a\\x01\\x0f', '\\x13Oxn7M\\x00;\\x1d\\x1c', 'I\\x15ET\\t\\x08A\\x14\\n\\r', 'S\\x07-E\\x06\\x05\\x0cN7=', \"?RP7IS'\\\\Id\", 'ms\\x00\\r\\x15P\\x07\\x01NS', '\\x16;E\\x1a\\x0c\\x1b\\nA\\x18\\x06', '\\x19Ex[\\x00\\x05\\x17\\x1b\\x03\\x06', 'NT&\\x04Z\\x07Oc \\x11', '5\\x17\\x06\\x01\\x0c\\nA\\x16\\x16R', 'T0_\\x00 \\x13\\x1a\\x0b\\x14\\x00', '\\x1c\\x01\\x11T\\x07\\x01NS\\x02&', '\\n\\x07\\x03\\rNk \\x07\\x17R', '=\\x1dSb\\x1c\\x06N\\x13R\\x1d', '\\x18\\x15I\\x00HI\\x1c\\x0bt\\x08', '\\x1b\\x03\\x0cBA=H\\x1f\\x002', 'OS6R\\x0e\\x0b\\x13T\\x1d\\x06', 'B\\x00\\n\\x00\\x1e\\x1dE^6\\x02', '\\x0c\\x1b\\x05\\x00\\x19\\x0e\\x06I;\\x16', '\\x00\\x0bU\\x04N\\x0fA\\x1a\\x0f\\x0c', 'NIO\\x1d\\x1a\\x02<\\x11R\\x01', '\\x00\\x05\\x04T\\x0eRF9TA', '6\\x1b\\nNmy\\x1b\\x1dET', '\\x1c\\x0e\\x19\\x03\\x000E\\x1f\\x08I', '\\x01\\x0f\\x17\\nRA6^\\x00\\x0b', 'R\\x1d\\x06\\x08U\\x13\\x00\\x11\\x00\\x1a', '\\x07\\x08\\x07E^<\\x1d\\x18I\\x03', \"\\x08\\x13\\x07\\x06\\x000[V'R\", \"\\x00\\x1aG*'\\x07ES\\x1a\\n\", '\\x19S\\x01;\\x12\\x1cM\\x08\\x00\\x05', \"T\\x03\\x17N<\\x1aM'R\\x10\", '\\x01\\x12RT\\r\\x04RNeN', 'K\\\\t\\x0c\\x1cM\\x04\\x17A\\x00', '\\x06\\x1fEy\\x1ay-\\x07EN', '@\\x19DH\\x0cSN\\x02\\x10S', '\\x1c1\\x04\\x00CIdk-\\x00', '\\x07\\x07*_\\x005\\x17\\x08\\x05\\x02', 'N\\x1d\\x06B\\x00\\x08\\x0e\\x1a\\x07I', 't<=LI\\x0f\\x0f\\x10O;', '\\x00;[Nb\\x06\\x0c\\x02\\x0b\\x00', '\\x1d\\x1cE*7\\x00\\x1c\\x01E6', '\\n\\x16\\x14N\\x1dA\\x13\\n\\x06T', '1T\\x07b\\x1a\\x06\\x1aK\\x00\\x07', '\\x07I\\x00\\x1d\\x00I:E7\\x04', '\\x1cM\\x1a\\x03\\x04\\x18\\x03RI,', '\\x1a*\\x11\\x1dI\\n\\x08NS\\x1c', 'EB\\x0bO\\x04\\x12\\x01t\\x04\\x1c', '\\tI\\n\\x0e\\x1aH\\x06\\x00:_', '\\x001\\x13\\rNm\\x077\\t\\x10', 'S\\x0bO\\x1d\\x1b\\x00t\\t\\x0b\\x1f', '\\x00\\r\\x12T\\r\\x17L7TG', 'b\\x06\\x06N.c1DEy', '\\x01\\x1aI\\x10\\x04:E\\x11\\x0c\\x05', '\\x02A\\x19\\nRd9^\\x00H', '+\\x06\\x1b@R\\x11H\\x15I\\x1a', '\\x0c\\x01\\x1a\\x0bsE\\x13M\\x0f\\x07', \"\\x15XO\\x01OxIT'\\x02\", 'I\\x0c\\x06C\\x1fH\\x04N\\nO', '\\x0c\\x1d\\x01!\\x17\\x17Mc\"\\x04', '\\x00O\\x06H=\\x1aW+\\x06\\n', '\\x06GD\\x1b\\x0b\\x11O\\x1cCI', ':\\x061IR\\t\\x06N\\x15\\x1c', \"\\nRD9TC'R\\x1d\\x01\", 'GC\\x01\\x1a\\x00\\x00d<\\x06S', '\\x06;\\x08\\x17M\\x1c\\x1eA\\x17\\x03', '\\x1dS=\\x1aA,\\x16I\\n\\x08', 'NS\\x1cEB\\x0bO\\x1a\\x02\\x10', '5\\x17\\x17Mc7\\x0e\\x01O\\x05', 'A6TAb\\x10\\x08\\x1a\\x13L', '\\x11H\\x08ENBDS$:', '\\x1c\\x06\\x04\\x04\\x0bMT\\x0e\\x1cY', '/RE0\\x17Idmy\\x1b', '\\x1dET\\x06\\x00\\x1c\\x14\\r E', '\\x06\\x05\\x08\\x1aA=O\\x05A+', \"\\x1aW'\\x13\\x02BGb\\x1b\\x11\", 'I\\x00\\x17\\x00\\x1cT\\x171E\\x16', '\\x08\\x08\\nA\\x03\\x1d\\x1dN?\\x1a', '*\\x11\\x1dI\\r\\x08M\\x11H\\n', 'NBO\\x0c\\x05\\x00&\\x1c\\x10\\x02', '\\r\\x17A\\x15\\x01\\x16\\x00+SN', '%R\\x1d\\x06\\x0eST\\x1b\\nN', '\\tOcy65\\x1cR@D', 'N1\\x18\\x0e\\x0b\\x00,RA6', 'R\\x0f\\x1b\\tK\\rH\\x08U\\x1d', '\\x06\\nS65\\x1c^M\\x0e\\x01', 'A\\x03\\x07\\x1bT=\\x1aB-\\x0b', 'EN\\x00OT\\x1f\\rI\\x1a\\n', 'I\\x11\\n-E\\x15\\x02Id\\x11', '\\x18\\x0e\\x0b\\x00,RA6R\\x0f', '\\x1b\\tK\\rH\\x08U\\x1d\\x06\\n', 'S\";E\\x05\\x05\\x00\\x1a\\x04T', '\\r\\x1dYt\\x1aG-R\\x1e\\x06', '\\x0eT\\x11H\\x07O\\x17CI\\x14', '\\nto>\\x0c\\x10N\\x05\\x1b\\x18', '\\x1c\\x009TDb\\x10\\x06\\x01\\x00', 'I\\x11H\\x04N\\nO\\x19\\x1f\\x04', '-E\\x06\\x05\\x08\\x1aA\\x12\\x1a\\x1c', 'K!\\x1aM7\\x01\\x00\\rGT', '\\x1d\\x04\\t\\x00\\x17\\x00\\x1cS\\x01=', '\\x00\\\\Mcd1\\x18\\x0e\\x0b\\x00', ',RA6R\\x0f\\x1b\\tK\\r', 'H\\x08U\\x1d\\x06\\nS&;\\x08', '\\x17M\\x06\\x00MT,\\x1dM=', '\\x1aO,^I\\x02\\x02TT\\x05', '\\x00\\x00\\x06\\n\\x08\\x01E^5\\x1e', '\\x0c\\x10N\\x15\\x1c\\x0e\\x06\\x00>O', 'N)\\x0bI\\x03\\x12S\\x1d\\x0bE', 'W\\x06\\x06\\x1d\\x16E6\\n\\x0bM', '\\x10\\x01\\x14T\\x1c\\x13YxST', 'nR\\x1a\\x0f\\x1e\\x00\\x1d\\x1cE*', '>\\x03\\x08\\nE \\r\\x13\\x19I', '\\x08\\x14\\x1a\\x04\\x0b\\x005OS+', '\\x11I/GL\\x1d\\x1c\\x11L\\x0b', 'O\\x05\\x1c\\x100\\x00\\x00M\\x07\\x01', '\\x16Te\"L9C\\x006\\x1a', '\\x08\\x1aGF\\x01\\x06\\x0eYN\\x02', '\\x1c\\x00\\x0c7IR\\x1a\\x01\\x07\\x15', '\\x11O\\x10O!\\x1ac-\\x1f\\x0c', 'N\\x08NXH&O\\x03\\nI', '\\x1c\\x0bxE1\\x02\\x04\\x0bA\\x1b', '\\x01R*\\x08VA;R\\x1d\\x06', '\\x06TT\\x0e\\x10N\\x05\\x16I\\x1e']\n"
       ]
      }
     ],
     "prompt_number": 2
    },
    {
     "cell_type": "code",
     "collapsed": false,
     "input": [],
     "language": "python",
     "metadata": {},
     "outputs": []
    }
   ],
   "metadata": {}
  }
 ]
}