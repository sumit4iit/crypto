{
 "cells": [
  {
   "cell_type": "code",
   "execution_count": 2,
   "metadata": {},
   "outputs": [
    {
     "data": {
      "text/plain": [
       "'SSdtIGtpbGxpbmcgeW91ciBicmFpbiBsaWtlIGEgcG9pc29ub3VzIG11c2hyb29t\\n'"
      ]
     },
     "execution_count": 2,
     "metadata": {},
     "output_type": "execute_result"
    }
   ],
   "source": [
    "'49276d206b696c6c696e6720796f757220627261696e206c696b65206120706f69736f6e6f7573206d757368726f6f6d'.decode('hex').encode('base64')"
   ]
  },
  {
   "cell_type": "code",
   "execution_count": 8,
   "metadata": {},
   "outputs": [
    {
     "data": {
      "text/plain": [
       "'\\x8a\\x10$\\x7f\\x90\\xd0\\xa0U8\\x88\\x8a\\xd6 X\\x82\\x19o_m\\x05\\xc2\\x1e\\xc8\\xdc\\xa0\\xcb\\x0b\\xe0,?\\x8b\\t\\xe3\\x82\\x96?D:\\xa5\\x14\\xda\\xa5\\x01%{\\t\\xa3k\\xf8\\xc4\\xc3\\x92\\xd8\\xca\\x1b\\xf49_\\r_%B\\x14\\x8c~_\\xf2\"7\\x96\\x98t\\xbff\\xcb\\x855~\\xf9\\x99V\\xac\\xcf\\x13\\xba\\x1a\\xf3l\\xa7\\xa9\\x1aPS<M\\x89\\xb75?\\x90\\x8cZ\\x16gt);\\x0b\\xf6$s\\x91\\xdfi\\xc8}\\xac\\xc4\\x12Z\\x99\\xecAr!\\xb5\\x81'"
      ]
     },
     "execution_count": 8,
     "metadata": {},
     "output_type": "execute_result"
    }
   ],
   "source": [
    "'8a10247f90d0a05538888ad6205882196f5f6d05c21ec8dca0cb0be02c3f8b09e382963f443aa514daa501257b09a36bf8c4c392d8ca1bf4395f0d5f2542148c7e5ff22237969874bf66cb85357ef99956accf13ba1af36ca7a91a50533c4d89b7353f908c5a166774293b0bf6247391df69c87dacc4125a99ec417221b581'.decode('hex')"
   ]
  },
  {
   "cell_type": "code",
   "execution_count": 9,
   "metadata": {},
   "outputs": [
    {
     "data": {
      "text/plain": [
       "\"I'm killing your brain like a poisonous mushroom\""
      ]
     },
     "execution_count": 9,
     "metadata": {},
     "output_type": "execute_result"
    }
   ],
   "source": [
    "'49276d206b696c6c696e6720796f757220627261696e206c696b65206120706f69736f6e6f7573206d757368726f6f6d'.decode('hex')"
   ]
  },
  {
   "cell_type": "code",
   "execution_count": 7,
   "metadata": {},
   "outputs": [
    {
     "data": {
      "text/plain": [
       "'\\xbd \\xaa\\xd8 \\xc9\\xe3\\x87\\xeaW@\\x85f\\xe5\\x84L\\x1eG\\x0e\\x9do\\xbb\\xdb\\xa3\\xa6\\xb4\\xdf\\x1d\\xd8[\\xce\"\\x08\\xf1\\x94O\\x18\\'\\xd0\\x15\\xdf\\x9cF\\xc2(\\x03\\xf4\\x1d\\x10R\\xac\\xb7!\\x97\\x7f\\x0c\\xcc\\x13\\xdb\\x95\\xc9p% \\x91\\xea^6\\xe4#\\xeej/-\\x12\\xef\\x90\\x9f\\xca\\xddBR\\x98\\x85\\xd2!\\xaf\\x12%\\xe3!a\\xb8^m\\xc04e\\xcf9\\x8c\\x93xF\\xb1\\x8b\\xac\\x05\\xe8\\x88 \\xa5g\\xca\\xac\\x117bu=\\xff\\xben\\xce\\t\\x82;\\xabZ\\xee\\x94zh+\\xb3\\x15oB\\xdf\\x1d\\x8d\\xc3 \\xa8\\x97\\xeey\\x98\\x1c\\xf979\\x0bJ\\xe9>\\xb8e\\x7fl'"
      ]
     },
     "execution_count": 7,
     "metadata": {},
     "output_type": "execute_result"
    }
   ],
   "source": [
    "'bd20aad820c9e387ea57408566e5844c1e470e9d6fbbdba3a6b4df1dd85bce2208f1944f1827d015df9c46c22803f41d1052acb721977f0ccc13db95c970252091ea5e36e423ee6a2f2d12ef909fcadd42529885d221af1225e32161b85e6dc03465cf398c937846b18bac05e88820a567caac113762753dffbe6ece09823bab5aee947a682bb3156f42df1d8dc320a897ee79981cf937390b4ae93eb8657f6c'.decode('hex')"
   ]
  },
  {
   "cell_type": "code",
   "execution_count": 17,
   "metadata": {},
   "outputs": [
    {
     "name": "stdout",
     "output_type": "stream",
     "text": [
      "d880619740a8a19b7840a8a31c810a3d08649af70dc06f4fd5d2d69c744cd283e2dd052f6b641dbf9d11b0348542bb5708649af70dc06f4fd5d2d69c744cd2839475c9dfdbc1d46597949d9c7e82bf5a08649af70dc06f4fd5d2d69c744cd28397a93eab8d6aecd566489154789a6b0308649af70dc06f4fd5d2d69c744cd283d403180c98c8f6db1f2a3f9c4040deb0ab51b29933f2c123c58386b06fba186a\n",
      "\n"
     ]
    },
    {
     "data": {
      "text/plain": [
       "True"
      ]
     },
     "execution_count": 17,
     "metadata": {},
     "output_type": "execute_result"
    }
   ],
   "source": [
    "def _get_chunks(cipher_txt, key_size):\n",
    "    i = 0;\n",
    "    tokens = []\n",
    "    while i < len(cipher_txt):\n",
    "        tokens.append(cipher_txt[i:i+key_size])\n",
    "        i+=key_size\n",
    "    \n",
    "    return tokens\n",
    "\n",
    "def _detect_ecb(chunks):\n",
    "    while len(chunks):\n",
    "        key = chunks[0]\n",
    "        chunks = chunks[1:]\n",
    "        if key in chunks:\n",
    "            return True;\n",
    "    return False;\n",
    "\n",
    "def detect_aes_ecb(cipher_txt, key_size):\n",
    "    return  _detect_ecb(_get_chunks(cipher_txt, key_size))\n",
    "    \n",
    "if __name__ == '__main__':\n",
    "    f = open('1-8.txt', 'rb')\n",
    "    for line in f:\n",
    "        if detect_aes_ecb(line, 32):\n",
    "            print line\n",
    "    \n",
    "    \n",
    "chunks = get_chunks('1234567812', 2)\n",
    "detect_ecb(chunks)"
   ]
  },
  {
   "cell_type": "code",
   "execution_count": 14,
   "metadata": {},
   "outputs": [
    {
     "name": "stdout",
     "output_type": "stream",
     "text": [
      "1-1.py  1-4.out  1-5.py   1-7.py   1-8.txt                test.txt\r\n",
      "1-2.py  1-4.py   1-5.txt  1-7.txt  6.txt                  Untitled.ipynb\r\n",
      "1-3.py  1-4.txt  1-6.py   1-8.py   CryptoPals_set1.ipynb  xor.py\r\n"
     ]
    }
   ],
   "source": [
    "ls"
   ]
  },
  {
   "cell_type": "code",
   "execution_count": 10,
   "metadata": {},
   "outputs": [
    {
     "data": {
      "text/plain": [
       "'12'"
      ]
     },
     "execution_count": 10,
     "metadata": {},
     "output_type": "execute_result"
    }
   ],
   "source": [
    "chunks[1:]\n",
    "chunks[0]"
   ]
  }
 ],
 "metadata": {
  "kernelspec": {
   "display_name": "Python 2",
   "language": "python",
   "name": "python2"
  },
  "language_info": {
   "codemirror_mode": {
    "name": "ipython",
    "version": 2
   },
   "file_extension": ".py",
   "mimetype": "text/x-python",
   "name": "python",
   "nbconvert_exporter": "python",
   "pygments_lexer": "ipython2",
   "version": "2.7.13"
  }
 },
 "nbformat": 4,
 "nbformat_minor": 2
}
